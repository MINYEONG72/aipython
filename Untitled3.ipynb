{
  "nbformat": 4,
  "nbformat_minor": 0,
  "metadata": {
    "colab": {
      "provenance": [],
      "authorship_tag": "ABX9TyPoP1l1o4y+aopmi7Tec7vm",
      "include_colab_link": true
    },
    "kernelspec": {
      "name": "python3",
      "display_name": "Python 3"
    },
    "language_info": {
      "name": "python"
    }
  },
  "cells": [
    {
      "cell_type": "markdown",
      "metadata": {
        "id": "view-in-github",
        "colab_type": "text"
      },
      "source": [
        "<a href=\"https://colab.research.google.com/github/MINYEONG72/aipython/blob/main/Untitled3.ipynb\" target=\"_parent\"><img src=\"https://colab.research.google.com/assets/colab-badge.svg\" alt=\"Open In Colab\"/></a>"
      ]
    },
    {
      "cell_type": "code",
      "execution_count": null,
      "metadata": {
        "id": "FglNuZEaX0qb"
      },
      "outputs": [],
      "source": [
        "data=\"Greeks for Greeks\"\n",
        "lines=data.split(' ')\n",
        "print([lines])"
      ]
    },
    {
      "cell_type": "code",
      "source": [
        "ords=['Greek','for','Greeek']\n",
        "sentence='-'.join(words)\n",
        "print(sentence)"
      ],
      "metadata": {
        "id": "fNFXBculYDj5"
      },
      "execution_count": null,
      "outputs": []
    },
    {
      "cell_type": "code",
      "source": [
        "squares=[x**2 for x in range(5) if x%2==0]\n",
        "print(squares)"
      ],
      "metadata": {
        "id": "kzqo7B0lYMSR"
      },
      "execution_count": null,
      "outputs": []
    },
    {
      "cell_type": "code",
      "source": [
        "squares=[x**2 for x in range(1,21) if x%3==0]\n",
        "print(squares)\n"
      ],
      "metadata": {
        "id": "uRvH9DPHYO8E"
      },
      "execution_count": null,
      "outputs": []
    },
    {
      "cell_type": "code",
      "source": [
        "squares=[x**2 for x in range(1,6)]\n",
        "print(squares)"
      ],
      "metadata": {
        "id": "iR_MLP9EYSZw"
      },
      "execution_count": null,
      "outputs": []
    },
    {
      "cell_type": "code",
      "source": [
        "city= [\"Seoul\", \"New York\", \"London\", \"Shanghai\", \"Paris\", \"Tokyo\"]\n",
        "squares=[city for city in city if \"S\" in city ]\n",
        "print(squares)"
      ],
      "metadata": {
        "id": "9dXbuX2QYYAP"
      },
      "execution_count": null,
      "outputs": []
    },
    {
      "cell_type": "code",
      "source": [
        "fruits=[\"apple\", \"banana\", \"cherry\"]\n",
        "for index, fruit in enumerate (fruits):\n",
        "    print(index, fruit)\n"
      ],
      "metadata": {
        "id": "Sz1QIKJoYa6X"
      },
      "execution_count": null,
      "outputs": []
    },
    {
      "cell_type": "code",
      "source": [
        "text=[\"a\",\"b\",\"c\"]\n",
        "for index, text in enumerate(text):\n",
        "    print(\"fruit\",index,\"name is\",text)\n"
      ],
      "metadata": {
        "id": "Xv_eJjkHYeCO"
      },
      "execution_count": null,
      "outputs": []
    },
    {
      "cell_type": "code",
      "source": [
        "names = ['John', 'Jane', 'Doe']\n",
        "ages = [25, 30, 35]\n",
        "for name, age in zip(names, ages):\n",
        "    print(f\"{name}is {age} years old\")"
      ],
      "metadata": {
        "id": "FfiMagVGYhNS"
      },
      "execution_count": null,
      "outputs": []
    },
    {
      "cell_type": "code",
      "source": [
        "list1 = [1, 2, 3]\n",
        "list2 = [4, 5, 6]\n",
        "list3 = [7, 8, 9]\n"
      ],
      "metadata": {
        "id": "QBwE4klXYlIS"
      },
      "execution_count": null,
      "outputs": []
    },
    {
      "cell_type": "code",
      "source": [
        "name = [ \"M\", \"N\", \"S\", \"A\" ]\n",
        "roll_no = [ 4, 1, 3, 2 ]\n",
        "for name, roll_no in zip(name, roll_no):\n",
        "    print({(name, roll_no)},end='')\n"
      ],
      "metadata": {
        "id": "aGUnc65GYorc"
      },
      "execution_count": null,
      "outputs": []
    },
    {
      "cell_type": "code",
      "source": [
        "names = ['M', 'R', 'C']\n",
        "ages = [24, 50, 18]\n",
        "for index, (name, age) in enumerate(zip(names, ages)):\n",
        "    print(f\"{index} {name} {age}\")"
      ],
      "metadata": {
        "id": "Qb548oC0Yq88"
      },
      "execution_count": null,
      "outputs": []
    },
    {
      "cell_type": "code",
      "source": [
        "add=lambda x,y:x+y\n",
        "print(add(5,10))"
      ],
      "metadata": {
        "id": "di2gfrGYYuB1"
      },
      "execution_count": null,
      "outputs": []
    },
    {
      "cell_type": "code",
      "source": [
        "num1 = [4, 5, 6]\n",
        "num2 = [5, 6, 7]"
      ],
      "metadata": {
        "id": "uews-XTWYws8"
      },
      "execution_count": null,
      "outputs": []
    }
  ]
}