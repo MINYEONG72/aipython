{
  "nbformat": 4,
  "nbformat_minor": 0,
  "metadata": {
    "colab": {
      "provenance": [],
      "authorship_tag": "ABX9TyOagijcmTdK/EqWB4AD6gUH",
      "include_colab_link": true
    },
    "kernelspec": {
      "name": "python3",
      "display_name": "Python 3"
    },
    "language_info": {
      "name": "python"
    }
  },
  "cells": [
    {
      "cell_type": "markdown",
      "metadata": {
        "id": "view-in-github",
        "colab_type": "text"
      },
      "source": [
        "<a href=\"https://colab.research.google.com/github/MINYEONG72/aipython/blob/main/hello.ipynb\" target=\"_parent\"><img src=\"https://colab.research.google.com/assets/colab-badge.svg\" alt=\"Open In Colab\"/></a>"
      ]
    },
    {
      "cell_type": "code",
      "execution_count": 2,
      "metadata": {
        "colab": {
          "base_uri": "https://localhost:8080/"
        },
        "id": "T1WX0-smK9mY",
        "outputId": "3349c7c2-8060-46b9-ccc2-26b30c555f1a"
      },
      "outputs": [
        {
          "output_type": "stream",
          "name": "stdout",
          "text": [
            "hello world\n"
          ]
        }
      ],
      "source": [
        "#출력하기\n",
        "print(\"hello world\")"
      ]
    },
    {
      "cell_type": "code",
      "source": [],
      "metadata": {
        "id": "NmSNIWcrLWwR"
      },
      "execution_count": null,
      "outputs": []
    },
    {
      "source": [
        "print('hello world')"
      ],
      "cell_type": "code",
      "metadata": {
        "id": "v4Va788POOPY"
      },
      "execution_count": null,
      "outputs": []
    },
    {
      "source": [
        "def compare(A, B):\n",
        "  if A > B:\n",
        "    print('A>B')\n",
        "  elif A < B:\n",
        "    print('A<B')\n",
        "  else:\n",
        "    print('A==B')\n",
        "\n",
        "A = int(input('A를 입력하세요: '))\n",
        "B = int(input('B를 입력하세요: '))\n",
        "\n",
        "compare(A, B)"
      ],
      "cell_type": "code",
      "metadata": {
        "colab": {
          "base_uri": "https://localhost:8080/"
        },
        "id": "3ZxVtBLxQnW4",
        "outputId": "6d56ec3c-ff37-452c-b95c-43055f5fe49e"
      },
      "execution_count": 11,
      "outputs": [
        {
          "output_type": "stream",
          "name": "stdout",
          "text": [
            "A를 입력하세요: 1\n",
            "B를 입력하세요: 2\n",
            "A<B\n"
          ]
        }
      ]
    },
    {
      "source": [
        "A, B = map(int, input('A와 B를 한 번에 입력하세요: ').split())\n",
        "\n",
        "if A > B:\n",
        "  print('>')\n",
        "elif A < B:\n",
        "  print('<')\n",
        "else:\n",
        "  print('==')"
      ],
      "cell_type": "code",
      "metadata": {
        "colab": {
          "base_uri": "https://localhost:8080/"
        },
        "id": "VnrLkp0qSq1P",
        "outputId": "0d165d88-419d-4d08-edb4-425d859a196b"
      },
      "execution_count": 21,
      "outputs": [
        {
          "output_type": "stream",
          "name": "stdout",
          "text": [
            "A와 B를 한 번에 입력하세요: 1  2\n",
            "<\n"
          ]
        }
      ]
    }
  ]
}