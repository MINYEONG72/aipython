{
  "nbformat": 4,
  "nbformat_minor": 0,
  "metadata": {
    "colab": {
      "provenance": [],
      "authorship_tag": "ABX9TyPhUNhl7UNpyy9pfOQZMnO9",
      "include_colab_link": true
    },
    "kernelspec": {
      "name": "python3",
      "display_name": "Python 3"
    },
    "language_info": {
      "name": "python"
    }
  },
  "cells": [
    {
      "cell_type": "markdown",
      "metadata": {
        "id": "view-in-github",
        "colab_type": "text"
      },
      "source": [
        "<a href=\"https://colab.research.google.com/github/MINYEONG72/aipython/blob/main/Untitled2.ipynb\" target=\"_parent\"><img src=\"https://colab.research.google.com/assets/colab-badge.svg\" alt=\"Open In Colab\"/></a>"
      ]
    },
    {
      "cell_type": "code",
      "execution_count": null,
      "metadata": {
        "id": "mdcufiIvlPgB"
      },
      "outputs": [],
      "source": [
        "scores = []\n",
        "\n",
        "while True:\n",
        "    score_input = input(\"학생의 점수를 입력하세요: \")\n",
        "    if not score_input.isdigit():\n",
        "        print(\"입력이 종료되었습니다.\")\n",
        "        break\n",
        "\n",
        "    score = int(score_input)\n",
        "    scores.append(score)\n",
        "\n",
        "total = sum(scores)\n",
        "count = len(scores)\n",
        "average = total / count if count > 0 else 0\n",
        "\n",
        "print(f\"총합: {total}\")\n",
        "print(f\"총원수: {count}\")\n",
        "print(f\"평균: {average}\")"
      ]
    }
  ]
}