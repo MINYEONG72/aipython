{
  "nbformat": 4,
  "nbformat_minor": 0,
  "metadata": {
    "colab": {
      "provenance": [],
      "authorship_tag": "ABX9TyMwYGEMfnxqVa9PEbpN74lp",
      "include_colab_link": true
    },
    "kernelspec": {
      "name": "python3",
      "display_name": "Python 3"
    },
    "language_info": {
      "name": "python"
    }
  },
  "cells": [
    {
      "cell_type": "markdown",
      "metadata": {
        "id": "view-in-github",
        "colab_type": "text"
      },
      "source": [
        "<a href=\"https://colab.research.google.com/github/MINYEONG72/aipython/blob/main/2024_01_02.ipynb\" target=\"_parent\"><img src=\"https://colab.research.google.com/assets/colab-badge.svg\" alt=\"Open In Colab\"/></a>"
      ]
    },
    {
      "cell_type": "code",
      "source": [
        "#2-6\n",
        "#하나의 변수를 활용하는 코드입니다.\n",
        "Lab=105\n",
        "print(\"우리가 수업하는 실습실:\")\n",
        "print(Lab)"
      ],
      "metadata": {
        "colab": {
          "base_uri": "https://localhost:8080/"
        },
        "id": "ZNmPQ6O33jpZ",
        "outputId": "ad2928d9-3ee5-4fbe-8049-98aed5e220a0"
      },
      "execution_count": null,
      "outputs": [
        {
          "output_type": "stream",
          "name": "stdout",
          "text": [
            "우리가 수업하는 실습실:\n",
            "105\n"
          ]
        }
      ]
    },
    {
      "cell_type": "code",
      "source": [
        "#2-7\n",
        "#하나의 변수를 활용하는 코드입니다.\n",
        "Lab=105\n",
        "print(\"우리가 수업하는 실습실:\",Lab)"
      ],
      "metadata": {
        "colab": {
          "base_uri": "https://localhost:8080/"
        },
        "id": "bV4_If_8CP-d",
        "outputId": "9382ba94-5a26-4dc1-9ac9-23c8556c14e4"
      },
      "execution_count": null,
      "outputs": [
        {
          "output_type": "stream",
          "name": "stdout",
          "text": [
            "우리가 수업하는 실습실: 105\n"
          ]
        }
      ]
    },
    {
      "cell_type": "code",
      "source": [
        "#2-8\n",
        "# 변수 두 개를 생성하고 값을 할당\n",
        "my_id=202206195\n",
        "grade=2\n",
        "# 두 개의 변수에 할당된 값을 출력\n",
        "print(\"나의 학번:\")\n",
        "print(my_id)\n",
        "print(\"학년:\")\n",
        "print(grade)"
      ],
      "metadata": {
        "colab": {
          "base_uri": "https://localhost:8080/"
        },
        "id": "wPWcRBkQCZ2z",
        "outputId": "4e8b31bd-c83b-4adc-e009-1fda3b62b92a"
      },
      "execution_count": null,
      "outputs": [
        {
          "output_type": "stream",
          "name": "stdout",
          "text": [
            "나의 학번:\n",
            "202206195\n",
            "학년:\n",
            "2\n"
          ]
        }
      ]
    },
    {
      "cell_type": "code",
      "source": [
        "#2-9\n",
        "# 변수에 값을 할당하고 출력하는 예제입니다.\n",
        "# dollars 변수에 값을 할당해봅시다.\n",
        "dollars=2.75\n",
        "print(\"I have\",dollars,\"in my account\")\n",
        "# dollars 변수에 새로운 값을 할당해봅시다.\n",
        "dollars=99.95\n",
        "print(\"But now I have\",dollars,\"in my account'\")"
      ],
      "metadata": {
        "colab": {
          "base_uri": "https://localhost:8080/"
        },
        "id": "qRmEGn2GCyxk",
        "outputId": "27409e4d-dc8e-4144-fe05-e6822cc21b9b"
      },
      "execution_count": null,
      "outputs": [
        {
          "output_type": "stream",
          "name": "stdout",
          "text": [
            "I have 2.75 in my account\n",
            "But now I have 99.95 in my account'\n"
          ]
        }
      ]
    },
    {
      "cell_type": "code",
      "source": [
        "#2-10\n",
        "# 두 개의 변수를 생성하고 문자열을 할당합니다.\n",
        "department = '국어국문학과'\n",
        "name = '홍길동'\n",
        "print(department,name)"
      ],
      "metadata": {
        "colab": {
          "base_uri": "https://localhost:8080/"
        },
        "id": "FmI1i59JDSKY",
        "outputId": "2f09684f-832b-480a-a287-fbfb0edca858"
      },
      "execution_count": null,
      "outputs": [
        {
          "output_type": "stream",
          "name": "stdout",
          "text": [
            "국어국문학과 홍길동\n"
          ]
        }
      ]
    },
    {
      "cell_type": "code",
      "source": [
        "#2-11\n",
        "# 학과명을 입력받습니다.\n",
        "department=input(\"학과명:\")\n",
        "# 여러분의 이름을 입력받습니다.\n",
        "name=input(\"성명:\")\n",
        "print(\"안녕하세요\",department,name,\"입니다\")"
      ],
      "metadata": {
        "colab": {
          "base_uri": "https://localhost:8080/"
        },
        "id": "q4mILEZhDdsb",
        "outputId": "6e23f6fd-d403-4cd5-d729-b21ac09178c8"
      },
      "execution_count": null,
      "outputs": [
        {
          "output_type": "stream",
          "name": "stdout",
          "text": [
            "학과명:문헌정보학과\n",
            "성명:김민영\n",
            "안녕하세요 문헌정보학과 김민영 입니다\n"
          ]
        }
      ]
    },
    {
      "cell_type": "code",
      "source": [
        "from re import A\n",
        "#2-12\n",
        "# 여러분의 이름, 나이, 통학시간 정보를 입력받습니다.\n",
        "name=input('당신의 이름은 무엇입니까?')\n",
        "age=int(input(\"나이는 어떻게 되시나요?\"))\n",
        "attending_time=float(input(\"통학시간은 얼마나 걸립니까?\"))\n",
        "#데이터 출력\n",
        "print(\"입력정보는 다음과 같습니다\")\n",
        "print(\"이름:\",name)\n",
        "print(\"나이:\",age)\n",
        "print(\"통학시간:\",attending_time)"
      ],
      "metadata": {
        "colab": {
          "base_uri": "https://localhost:8080/"
        },
        "id": "aRJOFLU7D4Ru",
        "outputId": "bb85957a-0ea9-493a-c07e-d7f7d88a0620"
      },
      "execution_count": null,
      "outputs": [
        {
          "output_type": "stream",
          "name": "stdout",
          "text": [
            "당신의 이름은 무엇입니까?김민영\n",
            "나이는 어떻게 되시나요?23\n",
            "통학시간은 얼마나 걸립니까?0.5\n",
            "입력정보는 다음과 같습니다\n",
            "이름: 김민영\n",
            "나이: 23\n",
            "통학시간: 0.5\n"
          ]
        }
      ]
    },
    {
      "cell_type": "code",
      "source": [
        "#2-13\n",
        "# salary 변수에 급여를 할당합니다.\n",
        "salary=2500.0\n",
        "# bonus 변수에 보너스를 할당합니다.\n",
        "bonus=1200.0\n",
        "#급여와 보너스를 더하여 총 급여를 구해봅니다\n",
        "pay=salary+bonus\n",
        "print(\"총급여:\",pay)"
      ],
      "metadata": {
        "colab": {
          "base_uri": "https://localhost:8080/"
        },
        "id": "eEDUbz_SFG9d",
        "outputId": "689e6914-4b76-4867-f1dd-1c86ba9d372f"
      },
      "execution_count": null,
      "outputs": [
        {
          "output_type": "stream",
          "name": "stdout",
          "text": [
            "총급여: 3700.0\n"
          ]
        }
      ]
    },
    {
      "cell_type": "code",
      "source": [
        "#2-14\n",
        "#원가에 할인율을 적용하여 할인가격을 계산해보자\n",
        "original_price=float(input(\"제품의 원가를 입력해주세요:\"))\n",
        "#할인율 20%적용\n",
        "discount=original_price*0.2\n",
        "#적용된 제품 가격 계산\n",
        "sale_price=original_price-discount\n",
        "print(\"할인가격:\",sale_price)"
      ],
      "metadata": {
        "colab": {
          "base_uri": "https://localhost:8080/"
        },
        "id": "uNEk0JlDFph-",
        "outputId": "04d10c40-e162-42ce-a72f-907e6ce05edb"
      },
      "execution_count": null,
      "outputs": [
        {
          "output_type": "stream",
          "name": "stdout",
          "text": [
            "제품의 원가를 입력해주세요:100\n",
            "할인가격: 80.0\n"
          ]
        }
      ]
    },
    {
      "cell_type": "code",
      "source": [
        "#2-15\n",
        "#세 과목의 평가점수 입력받고 각각의 변수에 할당\n",
        "test1=float(input(\"첫 번째 과목 점수를 입력하세요:\"))\n",
        "test2=float(input(\"두 번째 과목 점수를 입력하세요:\"))\n",
        "test3=float(input(\"세 번째 과목 점수를 입력하세요:\"))\n",
        "#평균을 계산하고 값을 변수에 할당\n",
        "average=(test1+test2+test3)/3.0\n",
        "print('3과목의 평균 점수:', average)"
      ],
      "metadata": {
        "colab": {
          "base_uri": "https://localhost:8080/"
        },
        "id": "9Rvs-USJGhYn",
        "outputId": "c213482f-74b4-421e-a095-63a3196f2b22"
      },
      "execution_count": null,
      "outputs": [
        {
          "output_type": "stream",
          "name": "stdout",
          "text": [
            "첫 번째 과목 점수를 입력하세요:90\n",
            "두 번째 과목 점수를 입력하세요:80\n",
            "세 번째 과목 점수를 입력하세요:100\n",
            "3과목의 평균 점수: 90.0\n"
          ]
        }
      ]
    },
    {
      "cell_type": "code",
      "source": [
        "#2-16\n",
        "#초를 입력받아 시, 분, 초로 변환하는 프로그램\n",
        "total_seconds=float(input(\"시간 값을 초 단위로 입력해주세요:\"))\n",
        "hours=total_seconds//3600\n",
        "minutes=(total_seconds//60)%60\n",
        "seconds=total_seconds%60\n",
        "#출력\n",
        "print(\"시, 분, 초는 다음과 같습니다.\")\n",
        "print(\"시:\",hours)\n",
        "print(\"분:\",minutes)\n",
        "print(\"초:\",seconds)\n"
      ],
      "metadata": {
        "colab": {
          "base_uri": "https://localhost:8080/"
        },
        "id": "-bcmZQQaHLt5",
        "outputId": "c86c88c0-e87d-45e1-8dfd-7311f77baca6"
      },
      "execution_count": null,
      "outputs": [
        {
          "output_type": "stream",
          "name": "stdout",
          "text": [
            "시간 값을 초 단위로 입력해주세요:11730\n",
            "시, 분, 초는 다음과 같습니다.\n",
            "시: 3.0\n",
            "분: 15.0\n",
            "초: 30.0\n"
          ]
        }
      ]
    },
    {
      "cell_type": "code",
      "source": [
        "#2-17\n",
        "future_value= float(input(\"목표 금액을 입력해주세요: \"))\n",
        "rate= float(input(\"연간 이율을 입력해주세요: \"))\n",
        "years=int(input(\"저축 기간을 연 단위로 입력해주세요:\"))\n",
        "present_value=future_value/(1.0+rate)**years\n",
        "print(\"적립금액:\",present_value)"
      ],
      "metadata": {
        "colab": {
          "base_uri": "https://localhost:8080/"
        },
        "id": "REnqmJtGIobH",
        "outputId": "c9c53e38-4d52-4c52-8b13-051c124067b2"
      },
      "execution_count": null,
      "outputs": [
        {
          "output_type": "stream",
          "name": "stdout",
          "text": [
            "목표 금액을 입력해주세요: 10000.0\n",
            "연간 이율을 입력해주세요: 0.05\n",
            "저축 기간을 연 단위로 입력해주세요:10\n",
            "적립금액: 6139.132535407592\n"
          ]
        }
      ]
    },
    {
      "cell_type": "code",
      "source": [
        "#2-18\n",
        "print(\"a\",\"b\",\"c\")\n",
        "print(\"a\",\"b\",\"c\",sep='')\n",
        "print(\"a\",\"b\",\"c\",sep='***')"
      ],
      "metadata": {
        "colab": {
          "base_uri": "https://localhost:8080/"
        },
        "id": "0mCFKGSjJ9ag",
        "outputId": "f182d2e1-9272-4ad4-bda6-82d193fac200"
      },
      "execution_count": null,
      "outputs": [
        {
          "output_type": "stream",
          "name": "stdout",
          "text": [
            "a b c\n",
            "abc\n",
            "a***b***c\n"
          ]
        }
      ]
    },
    {
      "cell_type": "code",
      "source": [
        "print(\"a\")\n",
        "print(\"b\")\n",
        "print(\"c\",end='')\n",
        "print(\"d\",end='')\n",
        "print(\"e\",end='***')\n",
        "print(\"f\")\n"
      ],
      "metadata": {
        "colab": {
          "base_uri": "https://localhost:8080/"
        },
        "id": "eZP2qYdIKZ5n",
        "outputId": "10f1e556-dcb7-473e-df0d-a0bd1aaa626e"
      },
      "execution_count": null,
      "outputs": [
        {
          "output_type": "stream",
          "name": "stdout",
          "text": [
            "a\n",
            "b\n",
            "cde***f\n"
          ]
        }
      ]
    },
    {
      "cell_type": "code",
      "source": [
        "2-20\n",
        "amount_due=5000.0\n",
        "monthly_payment = amount_due / 12.0\n",
        "print(\"월급여: \", monthly_payment)"
      ],
      "metadata": {
        "colab": {
          "base_uri": "https://localhost:8080/"
        },
        "id": "jl2JPfx6Kwjw",
        "outputId": "11403112-44c7-445c-8c0d-d6d948e7b4fc"
      },
      "execution_count": null,
      "outputs": [
        {
          "output_type": "stream",
          "name": "stdout",
          "text": [
            "월급여:  416.6666666666667\n"
          ]
        }
      ]
    },
    {
      "cell_type": "code",
      "source": [
        "#2-21\n",
        "amount_due = 5000.0\n",
        "monthly_payment = amount_due / 12\n",
        "print(\"월급여: \", format(monthly_payment, \".2f\"))"
      ],
      "metadata": {
        "colab": {
          "base_uri": "https://localhost:8080/"
        },
        "id": "if-7I_EmK4hf",
        "outputId": "f66a2c25-bb77-492c-dbc5-8c14372c0e78"
      },
      "execution_count": null,
      "outputs": [
        {
          "output_type": "stream",
          "name": "stdout",
          "text": [
            "월급여:  416.67\n"
          ]
        }
      ]
    },
    {
      "cell_type": "code",
      "source": [
        "#2-22\n",
        "monthly_pay = 5000.0\n",
        "annual_pay = monthly_pay * 12\n",
        "print('Your annual pay is $', format(annual_pay, ',.2f'), sep='')"
      ],
      "metadata": {
        "colab": {
          "base_uri": "https://localhost:8080/"
        },
        "id": "mUzYR8eDLDqH",
        "outputId": "e1e85472-bd34-4f41-8b75-1895f76e19dd"
      },
      "execution_count": null,
      "outputs": [
        {
          "output_type": "stream",
          "name": "stdout",
          "text": [
            "Your annual pay is $60,000.00\n"
          ]
        }
      ]
    },
    {
      "cell_type": "code",
      "source": [
        "#2-23\n",
        "num1 = 127.899\n",
        "num2 = 3465.148\n",
        "num3 = 3.776\n",
        "num4 = 264.821\n",
        "num5 = 88.081\n",
        "num6 = 799.999\n",
        "\n",
        "print(format(num1, '7.2f'))\n",
        "print(format(num2, '7.2f'))\n",
        "print(format(num3, '7.2f'))\n",
        "print(format(num4, '7.2f'))\n",
        "print(format(num5, '7.2f'))\n",
        "print(format(num6, '7.2f'))"
      ],
      "metadata": {
        "colab": {
          "base_uri": "https://localhost:8080/"
        },
        "id": "zXgNMdMbLMi_",
        "outputId": "6346946c-6057-423a-9319-85f783060803"
      },
      "execution_count": null,
      "outputs": [
        {
          "output_type": "stream",
          "name": "stdout",
          "text": [
            " 127.90\n",
            "3465.15\n",
            "   3.78\n",
            " 264.82\n",
            "  88.08\n",
            " 800.00\n"
          ]
        }
      ]
    }
  ]
}